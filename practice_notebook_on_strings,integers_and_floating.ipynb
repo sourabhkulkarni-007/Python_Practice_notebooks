{
  "nbformat": 4,
  "nbformat_minor": 0,
  "metadata": {
    "colab": {
      "name": "practice notebook on strings,integers and floating.ipynb",
      "provenance": [],
      "authorship_tag": "ABX9TyMy+ZRJdb+4pW08yjEAYRT7",
      "include_colab_link": true
    },
    "kernelspec": {
      "name": "python3",
      "display_name": "Python 3"
    }
  },
  "cells": [
    {
      "cell_type": "markdown",
      "metadata": {
        "id": "view-in-github",
        "colab_type": "text"
      },
      "source": [
        "<a href=\"https://colab.research.google.com/github/sourabhkulkarni-007/Python_Practice_notebooks/blob/main/practice_notebook_on_strings%2Cintegers_and_floating.ipynb\" target=\"_parent\"><img src=\"https://colab.research.google.com/assets/colab-badge.svg\" alt=\"Open In Colab\"/></a>"
      ]
    },
    {
      "cell_type": "code",
      "metadata": {
        "id": "BlYj8mXOJlwG"
      },
      "source": [
        ""
      ],
      "execution_count": 29,
      "outputs": []
    },
    {
      "cell_type": "markdown",
      "metadata": {
        "id": "E7Q8slJ_JnG-"
      },
      "source": [
        "#String Processing\n"
      ]
    },
    {
      "cell_type": "code",
      "metadata": {
        "id": "HvSP7o8CJrE-"
      },
      "source": [
        "topic = \"Foundations of Data Science\""
      ],
      "execution_count": 30,
      "outputs": []
    },
    {
      "cell_type": "code",
      "metadata": {
        "id": "lR27t6aiJxEi",
        "outputId": "991d8d60-a416-4ee8-c8d8-d811220df524",
        "colab": {
          "base_uri": "https://localhost:8080/"
        }
      },
      "source": [
        "print(topic)"
      ],
      "execution_count": 31,
      "outputs": [
        {
          "output_type": "stream",
          "text": [
            "Foundations of Data Science\n"
          ],
          "name": "stdout"
        }
      ]
    },
    {
      "cell_type": "code",
      "metadata": {
        "id": "_8fh6BAsJ3_Z",
        "outputId": "5d464543-e8a7-4430-f712-10643540a91c",
        "colab": {
          "base_uri": "https://localhost:8080/"
        }
      },
      "source": [
        "print(topic[4])"
      ],
      "execution_count": 32,
      "outputs": [
        {
          "output_type": "stream",
          "text": [
            "d\n"
          ],
          "name": "stdout"
        }
      ]
    },
    {
      "cell_type": "code",
      "metadata": {
        "id": "8VZlBVFvJ7u_",
        "outputId": "48e8a02c-5e4a-448c-d295-fb20b703ffbc",
        "colab": {
          "base_uri": "https://localhost:8080/"
        }
      },
      "source": [
        "print(topic[0])"
      ],
      "execution_count": 33,
      "outputs": [
        {
          "output_type": "stream",
          "text": [
            "F\n"
          ],
          "name": "stdout"
        }
      ]
    },
    {
      "cell_type": "code",
      "metadata": {
        "id": "17AJiuv-KAba",
        "outputId": "09689576-8800-4b9a-9ce7-929f44654af9",
        "colab": {
          "base_uri": "https://localhost:8080/"
        }
      },
      "source": [
        "print(topic[-1])"
      ],
      "execution_count": 34,
      "outputs": [
        {
          "output_type": "stream",
          "text": [
            "e\n"
          ],
          "name": "stdout"
        }
      ]
    },
    {
      "cell_type": "code",
      "metadata": {
        "id": "Wgt_SBtoT0mw",
        "outputId": "0084e329-295d-4f89-8e90-dc5eb8135ae4",
        "colab": {
          "base_uri": "https://localhost:8080/"
        }
      },
      "source": [
        "print(topic[0:10])   #include 0 but not 10"
      ],
      "execution_count": 35,
      "outputs": [
        {
          "output_type": "stream",
          "text": [
            "Foundation\n"
          ],
          "name": "stdout"
        }
      ]
    },
    {
      "cell_type": "code",
      "metadata": {
        "id": "XwKxucNQT-PK",
        "outputId": "871fce4f-c59f-4549-c6c3-bb883f4bc868",
        "colab": {
          "base_uri": "https://localhost:8080/"
        }
      },
      "source": [
        "print(topic[12:18])"
      ],
      "execution_count": 36,
      "outputs": [
        {
          "output_type": "stream",
          "text": [
            "of Dat\n"
          ],
          "name": "stdout"
        }
      ]
    },
    {
      "cell_type": "markdown",
      "metadata": {
        "id": "2o8-YWrjUNDS"
      },
      "source": [
        "Functions on strings"
      ]
    },
    {
      "cell_type": "code",
      "metadata": {
        "id": "tWPOd6S0UJNH",
        "outputId": "5880fcbc-5886-450b-e680-359e7cacb824",
        "colab": {
          "base_uri": "https://localhost:8080/"
        }
      },
      "source": [
        "print(topic.lower())"
      ],
      "execution_count": 37,
      "outputs": [
        {
          "output_type": "stream",
          "text": [
            "foundations of data science\n"
          ],
          "name": "stdout"
        }
      ]
    },
    {
      "cell_type": "code",
      "metadata": {
        "id": "UIwvD2_YUUij",
        "outputId": "c0c66cea-5679-4800-a195-8059907a5b7a",
        "colab": {
          "base_uri": "https://localhost:8080/",
          "height": 35
        }
      },
      "source": [
        "topic"
      ],
      "execution_count": 38,
      "outputs": [
        {
          "output_type": "execute_result",
          "data": {
            "application/vnd.google.colaboratory.intrinsic+json": {
              "type": "string"
            },
            "text/plain": [
              "'Foundations of Data Science'"
            ]
          },
          "metadata": {
            "tags": []
          },
          "execution_count": 38
        }
      ]
    },
    {
      "cell_type": "code",
      "metadata": {
        "id": "-lthn6qqUf2l",
        "outputId": "6632bc12-dc62-4016-8ab6-426cc1713097",
        "colab": {
          "base_uri": "https://localhost:8080/"
        }
      },
      "source": [
        "print(topic.upper())"
      ],
      "execution_count": 39,
      "outputs": [
        {
          "output_type": "stream",
          "text": [
            "FOUNDATIONS OF DATA SCIENCE\n"
          ],
          "name": "stdout"
        }
      ]
    },
    {
      "cell_type": "code",
      "metadata": {
        "id": "vV18xIA5Uupd",
        "outputId": "0871e30b-0359-44a0-9713-1c526c4cd4d1",
        "colab": {
          "base_uri": "https://localhost:8080/"
        }
      },
      "source": [
        "print(topic.islower())"
      ],
      "execution_count": 40,
      "outputs": [
        {
          "output_type": "stream",
          "text": [
            "False\n"
          ],
          "name": "stdout"
        }
      ]
    },
    {
      "cell_type": "code",
      "metadata": {
        "id": "1LrzpKpDU2IF"
      },
      "source": [
        "topic = topic.lower()"
      ],
      "execution_count": 41,
      "outputs": []
    },
    {
      "cell_type": "code",
      "metadata": {
        "id": "eVFcxyO-U67g",
        "outputId": "91e8ef72-636d-42f9-842c-ec338f952c2d",
        "colab": {
          "base_uri": "https://localhost:8080/"
        }
      },
      "source": [
        "print(topic.islower())"
      ],
      "execution_count": 42,
      "outputs": [
        {
          "output_type": "stream",
          "text": [
            "True\n"
          ],
          "name": "stdout"
        }
      ]
    },
    {
      "cell_type": "code",
      "metadata": {
        "id": "KCIxKCq0U_Yh",
        "outputId": "121c04e8-631b-4cf5-d9c3-978d0243188c",
        "colab": {
          "base_uri": "https://localhost:8080/"
        }
      },
      "source": [
        "print(topic.find(\"data\"))"
      ],
      "execution_count": 43,
      "outputs": [
        {
          "output_type": "stream",
          "text": [
            "15\n"
          ],
          "name": "stdout"
        }
      ]
    },
    {
      "cell_type": "code",
      "metadata": {
        "id": "RAOALdElVLUx",
        "outputId": "5ed4b3ea-afe1-4f91-a451-33600199a9dc",
        "colab": {
          "base_uri": "https://localhost:8080/"
        }
      },
      "source": [
        "print(topic[15])"
      ],
      "execution_count": 44,
      "outputs": [
        {
          "output_type": "stream",
          "text": [
            "d\n"
          ],
          "name": "stdout"
        }
      ]
    },
    {
      "cell_type": "code",
      "metadata": {
        "id": "J8lFRwW_VShi",
        "outputId": "8c4c3060-ebbf-42ee-e81a-f670a3ad7f33",
        "colab": {
          "base_uri": "https://localhost:8080/"
        }
      },
      "source": [
        "print(topic.find(\"Ai\"))  #-1 represents not found"
      ],
      "execution_count": 45,
      "outputs": [
        {
          "output_type": "stream",
          "text": [
            "-1\n"
          ],
          "name": "stdout"
        }
      ]
    },
    {
      "cell_type": "code",
      "metadata": {
        "id": "Ahz9LHBMVX63",
        "outputId": "cc946800-e076-4aa7-a9ae-65dc1691dab4",
        "colab": {
          "base_uri": "https://localhost:8080/"
        }
      },
      "source": [
        "print(topic.replace(\"science\",\"engineering\"))"
      ],
      "execution_count": 46,
      "outputs": [
        {
          "output_type": "stream",
          "text": [
            "foundations of data engineering\n"
          ],
          "name": "stdout"
        }
      ]
    },
    {
      "cell_type": "code",
      "metadata": {
        "id": "o3I1gcPEVmle",
        "outputId": "57b9afe3-c7b0-444a-d5e1-16977cd86dd6",
        "colab": {
          "base_uri": "https://localhost:8080/"
        }
      },
      "source": [
        "print(topic)"
      ],
      "execution_count": 47,
      "outputs": [
        {
          "output_type": "stream",
          "text": [
            "foundations of data science\n"
          ],
          "name": "stdout"
        }
      ]
    },
    {
      "cell_type": "code",
      "metadata": {
        "id": "A70bmWpaVrLl",
        "outputId": "686fd058-c441-48c3-8b04-a565d286b424",
        "colab": {
          "base_uri": "https://localhost:8080/",
          "height": 35
        }
      },
      "source": [
        "topic"
      ],
      "execution_count": 48,
      "outputs": [
        {
          "output_type": "execute_result",
          "data": {
            "application/vnd.google.colaboratory.intrinsic+json": {
              "type": "string"
            },
            "text/plain": [
              "'foundations of data science'"
            ]
          },
          "metadata": {
            "tags": []
          },
          "execution_count": 48
        }
      ]
    },
    {
      "cell_type": "code",
      "metadata": {
        "id": "SyESjRlCVsJ4",
        "outputId": "26a50a8f-8656-47fd-a932-dc4126e523e8",
        "colab": {
          "base_uri": "https://localhost:8080/"
        }
      },
      "source": [
        "print(topic)"
      ],
      "execution_count": 49,
      "outputs": [
        {
          "output_type": "stream",
          "text": [
            "foundations of data science\n"
          ],
          "name": "stdout"
        }
      ]
    },
    {
      "cell_type": "code",
      "metadata": {
        "id": "NHQa8-eJWMww",
        "outputId": "ed404045-d8a5-414b-934e-674c971b4acc",
        "colab": {
          "base_uri": "https://localhost:8080/"
        }
      },
      "source": [
        "print(topic.replace(\"engineering\",\"science\"))"
      ],
      "execution_count": 50,
      "outputs": [
        {
          "output_type": "stream",
          "text": [
            "foundations of data science\n"
          ],
          "name": "stdout"
        }
      ]
    },
    {
      "cell_type": "code",
      "metadata": {
        "id": "47UGx4M8Wsdz"
      },
      "source": [
        ""
      ],
      "execution_count": null,
      "outputs": []
    },
    {
      "cell_type": "markdown",
      "metadata": {
        "id": "1mn8Z5qZWs8m"
      },
      "source": [
        "#playing with Floats"
      ]
    },
    {
      "cell_type": "code",
      "metadata": {
        "id": "eIiZVTmUWd7r",
        "outputId": "ffc7c1f3-7d78-4a98-908d-8b9d70b882b3",
        "colab": {
          "base_uri": "https://localhost:8080/"
        }
      },
      "source": [
        "print(55/34)"
      ],
      "execution_count": 52,
      "outputs": [
        {
          "output_type": "stream",
          "text": [
            "1.6176470588235294\n"
          ],
          "name": "stdout"
        }
      ]
    },
    {
      "cell_type": "code",
      "metadata": {
        "id": "13lXAS64Wz0Y"
      },
      "source": [
        "golden_ratio = 55/34"
      ],
      "execution_count": 53,
      "outputs": []
    },
    {
      "cell_type": "code",
      "metadata": {
        "id": "72Ao7O4YW5e9",
        "outputId": "32f2c2c6-a82d-4e95-efac-69bb290eb1bf",
        "colab": {
          "base_uri": "https://localhost:8080/"
        }
      },
      "source": [
        "print(golden_ratio.is_integer())"
      ],
      "execution_count": 54,
      "outputs": [
        {
          "output_type": "stream",
          "text": [
            "False\n"
          ],
          "name": "stdout"
        }
      ]
    },
    {
      "cell_type": "code",
      "metadata": {
        "id": "ZEH2EJhpW-2M",
        "outputId": "2d9fa119-c8c1-4a9f-a4d9-c6b2e0a1d871",
        "colab": {
          "base_uri": "https://localhost:8080/"
        }
      },
      "source": [
        "print(golden_ratio.as_integer_ratio())"
      ],
      "execution_count": 55,
      "outputs": [
        {
          "output_type": "stream",
          "text": [
            "(3642617345667313, 2251799813685248)\n"
          ],
          "name": "stdout"
        }
      ]
    },
    {
      "cell_type": "code",
      "metadata": {
        "id": "WkmQMPk7XHTK",
        "outputId": "50362971-410d-4a61-e057-8d07ad51d881",
        "colab": {
          "base_uri": "https://localhost:8080/"
        }
      },
      "source": [
        "3642617345667313/2251799813685248"
      ],
      "execution_count": 56,
      "outputs": [
        {
          "output_type": "execute_result",
          "data": {
            "text/plain": [
              "1.6176470588235294"
            ]
          },
          "metadata": {
            "tags": []
          },
          "execution_count": 56
        }
      ]
    },
    {
      "cell_type": "code",
      "metadata": {
        "id": "Zid2IomTXOTe",
        "outputId": "28c91af6-cb9b-4118-c7f4-695f4c147a9e",
        "colab": {
          "base_uri": "https://localhost:8080/"
        }
      },
      "source": [
        "print(55//34,55/34) #1st gives rounded off data"
      ],
      "execution_count": 58,
      "outputs": [
        {
          "output_type": "stream",
          "text": [
            "1 1.6176470588235294\n"
          ],
          "name": "stdout"
        }
      ]
    },
    {
      "cell_type": "code",
      "metadata": {
        "id": "tyJNeOKiXl-F",
        "outputId": "bc97a94d-b44c-414d-df21-3d5a83f050e8",
        "colab": {
          "base_uri": "https://localhost:8080/"
        }
      },
      "source": [
        "print(55%34)"
      ],
      "execution_count": 59,
      "outputs": [
        {
          "output_type": "stream",
          "text": [
            "21\n"
          ],
          "name": "stdout"
        }
      ]
    },
    {
      "cell_type": "code",
      "metadata": {
        "id": "Y0X62vNSXvlW",
        "outputId": "2fb6e570-e4b9-4fc7-c689-a107bc04093e",
        "colab": {
          "base_uri": "https://localhost:8080/"
        }
      },
      "source": [
        "#exponentiation \n",
        "print(2**3)"
      ],
      "execution_count": 60,
      "outputs": [
        {
          "output_type": "stream",
          "text": [
            "8\n"
          ],
          "name": "stdout"
        }
      ]
    },
    {
      "cell_type": "code",
      "metadata": {
        "id": "JwP4W-9vX27m"
      },
      "source": [
        ""
      ],
      "execution_count": null,
      "outputs": []
    }
  ]
}